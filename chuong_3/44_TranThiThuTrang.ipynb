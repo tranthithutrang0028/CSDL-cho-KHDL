{
 "cells": [
  {
   "cell_type": "markdown",
   "metadata": {},
   "source": [
    "# Câu 1: Tính sự tương quan giữa A và B"
   ]
  },
  {
   "attachments": {
    "image.png": {
     "image/png": "[encoded data removed]"
    }
   },
   "cell_type": "markdown",
   "metadata": {},
   "source": [
    "![image.png](attachment:image.png)"
   ]
  },
  {
   "cell_type": "code",
   "execution_count": null,
   "metadata": {},
   "outputs": [
    {
     "name": "stdout",
     "output_type": "stream",
     "text": [
      "Hệ số tương quan Pearson r_AB = 0.6910506641398757\n"
     ]
    }
   ],
   "source": [
    "import sqlite3\n",
    "import math\n",
    "\n",
    "# Tạo database\n",
    "conn = sqlite3.connect(\":memory:\")\n",
    "cursor = conn.cursor()\n",
    "\n",
    "# Tạo bảng\n",
    "cursor.execute(\"\"\"\n",
    "CREATE TABLE Scores (\n",
    "    A REAL,\n",
    "    B REAL\n",
    ")\n",
    "\"\"\")\n",
    "\n",
    "data = [\n",
    "    (8, 9),\n",
    "    (7.5, 8.5),\n",
    "    (6, 7),\n",
    "    (7, 6)\n",
    "]\n",
    "cursor.executemany(\"INSERT INTO Scores (A, B) VALUES (?, ?)\", data)\n",
    "\n",
    "# Truy vấn SQL \n",
    "cursor.execute(\"\"\"\n",
    "SELECT \n",
    "    COUNT(*) as n,\n",
    "    SUM(A) as sum_a,\n",
    "    SUM(B) as sum_b,\n",
    "    SUM(A * B) as sum_ab,\n",
    "    SUM(A * A) as sum_a2,\n",
    "    SUM(B * B) as sum_b2\n",
    "FROM Scores\n",
    "\"\"\")\n",
    "\n",
    "# Lấy kết quả\n",
    "n, sum_a, sum_b, sum_ab, sum_a2, sum_b2 = cursor.fetchone()\n",
    "\n",
    "# Áp dụng công thức\n",
    "numerator = n * sum_ab - sum_a * sum_b\n",
    "denominator = math.sqrt(n * sum_a2 - sum_a**2) * math.sqrt(n * sum_b2 - sum_b**2)\n",
    "r_ab = numerator / denominator\n",
    "\n",
    "print(\"Hệ số tương quan Pearson r_AB =\", r_ab)\n"
   ]
  },
  {
   "cell_type": "markdown",
   "metadata": {},
   "source": [
    "# Câu 2: Một công ty oto đang kiểm tra 3 loại mẫu mới A, B và C trong 4 ngày, và chấm điểm theo thang từ 1 đến 10 điểm cho mỗi ngày với bảng sau. Liệu có sự khác biệt đáng kể giữa các mẫu dựa trên điểm số mà chúng nhận được trong 4 ngày thử nghiệm không? Kết quả thử nghiệm phụ thuộc vào ngày hay phụ thuộc vào mẫu xe? Hãy chuyển đổi dữ liệu sang dạng quan hệ và thực hiện kiểm tra χ2"
   ]
  },
  {
   "attachments": {
    "image.png": {
     "image/png": "[encoded data removed]"
    }
   },
   "cell_type": "markdown",
   "metadata": {},
   "source": [
    "![image.png](attachment:image.png)"
   ]
  },
  {
   "cell_type": "code",
   "execution_count": null,
   "metadata": {},
   "outputs": [
    {
     "name": "stdout",
     "output_type": "stream",
     "text": [
      "Bảng dữ liệu:\n"
     ]
    },
    {
     "data": {
      "text/html": [
       "<div>\n",
       "<style scoped>\n",
       "    .dataframe tbody tr th:only-of-type {\n",
       "        vertical-align: middle;\n",
       "    }\n",
       "\n",
       "    .dataframe tbody tr th {\n",
       "        vertical-align: top;\n",
       "    }\n",
       "\n",
       "    .dataframe thead th {\n",
       "        text-align: right;\n",
       "    }\n",
       "</style>\n",
       "<table border=\"1\" class=\"dataframe\">\n",
       "  <thead>\n",
       "    <tr style=\"text-align: right;\">\n",
       "      <th></th>\n",
       "      <th>day</th>\n",
       "      <th>A</th>\n",
       "      <th>B</th>\n",
       "      <th>C</th>\n",
       "    </tr>\n",
       "  </thead>\n",
       "  <tbody>\n",
       "    <tr>\n",
       "      <th>0</th>\n",
       "      <td>Day 1</td>\n",
       "      <td>8.0</td>\n",
       "      <td>9.0</td>\n",
       "      <td>7</td>\n",
       "    </tr>\n",
       "    <tr>\n",
       "      <th>1</th>\n",
       "      <td>Day 2</td>\n",
       "      <td>7.5</td>\n",
       "      <td>8.5</td>\n",
       "      <td>7</td>\n",
       "    </tr>\n",
       "    <tr>\n",
       "      <th>2</th>\n",
       "      <td>Day 3</td>\n",
       "      <td>6.0</td>\n",
       "      <td>7.0</td>\n",
       "      <td>8</td>\n",
       "    </tr>\n",
       "    <tr>\n",
       "      <th>3</th>\n",
       "      <td>Day 4</td>\n",
       "      <td>7.0</td>\n",
       "      <td>6.0</td>\n",
       "      <td>5</td>\n",
       "    </tr>\n",
       "  </tbody>\n",
       "</table>\n",
       "</div>"
      ],
      "text/plain": [
       "     day    A    B  C\n",
       "0  Day 1  8.0  9.0  7\n",
       "1  Day 2  7.5  8.5  7\n",
       "2  Day 3  6.0  7.0  8\n",
       "3  Day 4  7.0  6.0  5"
      ]
     },
     "execution_count": 7,
     "metadata": {},
     "output_type": "execute_result"
    }
   ],
   "source": [
    "import sqlite3\n",
    "import pandas as pd\n",
    "from scipy.stats import chi2_contingency\n",
    "\n",
    "# Tạo database SQLite\n",
    "conn = sqlite3.connect(\":memory:\")\n",
    "cursor = conn.cursor()\n",
    "\n",
    "# Tạo bảng điểm\n",
    "cursor.execute(\"\"\"\n",
    "CREATE TABLE Scores (\n",
    "    day TEXT,\n",
    "    sample TEXT,\n",
    "    score INTEGER\n",
    ")\n",
    "\"\"\")\n",
    "\n",
    "data = [\n",
    "    (\"Day 1\", \"A\", 8), (\"Day 1\", \"B\", 9), (\"Day 1\", \"C\", 7),\n",
    "    (\"Day 2\", \"A\", 7.5), (\"Day 2\", \"B\", 8.5), (\"Day 2\", \"C\", 7),\n",
    "    (\"Day 3\", \"A\", 6), (\"Day 3\", \"B\", 7), (\"Day 3\", \"C\", 8),\n",
    "    (\"Day 4\", \"A\", 7), (\"Day 4\", \"B\", 6), (\"Day 4\", \"C\", 5)\n",
    "]\n",
    "cursor.executemany(\"INSERT INTO Scores (day, sample, score) VALUES (?, ?, ?)\", data)\n",
    "\n",
    "# Chuyển về dạng bảng (day x sample)\n",
    "df = pd.read_sql_query(\"\"\"\n",
    "SELECT day, \n",
    "       MAX(CASE WHEN sample = 'A' THEN score END) AS A,\n",
    "       MAX(CASE WHEN sample = 'B' THEN score END) AS B,\n",
    "       MAX(CASE WHEN sample = 'C' THEN score END) AS C\n",
    "FROM Scores\n",
    "GROUP BY day\n",
    "\"\"\", conn)\n",
    "\n",
    "print(\"Bảng dữ liệu:\")\n",
    "df.head()"
   ]
  },
  {
   "cell_type": "markdown",
   "metadata": {},
   "source": [
    "**Sử dụng phương pháp kiểm định Chi-Square(X2 test) đêr xem mối quan hệ giữa mấu và điểm số**"
   ]
  },
  {
   "cell_type": "code",
   "execution_count": 6,
   "metadata": {},
   "outputs": [
    {
     "name": "stdout",
     "output_type": "stream",
     "text": [
      "Chi-square: 0.826439691310499\n",
      "p-value: 0.9913459315666546\n",
      "Kết luận: Không có sự khác biệt đáng kể\n"
     ]
    }
   ],
   "source": [
    "# Kiểm định chi-square\n",
    "chi2, p, dof, expected = chi2_contingency(df[['A', 'B', 'C']].values)\n",
    "\n",
    "print(\"Chi-square:\", chi2)\n",
    "print(\"p-value:\", p)\n",
    "print(\"Kết luận:\", \"Có sự khác biệt đáng kể\" if p < 0.05 else \"Không có sự khác biệt đáng kể\")"
   ]
  },
  {
   "cell_type": "markdown",
   "metadata": {},
   "source": [
    "# Câu 3: Bảng flights(departure_time,…) chứa các giá trị thời gian dưới dạng số nguyên (ví dụ: 830 cho 8:30 AM, 1445 cho 2:45 PM). Hãy chuyển đổi các giá trị này thành định dạng thời gian."
   ]
  },
  {
   "cell_type": "code",
   "execution_count": 15,
   "metadata": {},
   "outputs": [
    {
     "name": "stdout",
     "output_type": "stream",
     "text": [
      "ID    Code   Formatted Time\n",
      "1     830    08:30 AM\n",
      "2     1445   02:45 PM\n",
      "3     1230   12:30 PM\n",
      "4     700    07:00 AM\n",
      "5     2200   10:00 PM\n"
     ]
    }
   ],
   "source": [
    "import sqlite3\n",
    "\n",
    "# Tạo database SQLite\n",
    "conn = sqlite3.connect(\":memory:\")\n",
    "cursor = conn.cursor()\n",
    "\n",
    "# Tạo bảng dữ liệu flight_schedule\n",
    "cursor.execute(\"\"\"\n",
    "CREATE TABLE flight_schedule (\n",
    "    flight_id INTEGER PRIMARY KEY,\n",
    "    time_code INTEGER\n",
    ")\n",
    "\"\"\")\n",
    "\n",
    "# Dữ liệu đầu vào\n",
    "flight_data = [\n",
    "    (1, 830),\n",
    "    (2, 1445),\n",
    "    (3, 1230),\n",
    "    (4, 700),\n",
    "    (5, 2200)\n",
    "]\n",
    "\n",
    "# Thêm dữ liệu vào bảng\n",
    "cursor.executemany(\"INSERT INTO flight_schedule VALUES (?, ?)\", flight_data)\n",
    "\n",
    "# Truy vấn và chuyển đổi định dạng thời gian\n",
    "query = \"\"\"\n",
    "SELECT \n",
    "    flight_id,\n",
    "    time_code,\n",
    "    printf('%02d:%02d %s',\n",
    "           CASE \n",
    "               WHEN time_code / 100 % 12 = 0 THEN 12\n",
    "               ELSE time_code / 100 % 12\n",
    "           END,\n",
    "           time_code % 100,\n",
    "           CASE \n",
    "               WHEN time_code / 100 >= 12 THEN 'PM'\n",
    "               ELSE 'AM'\n",
    "           END\n",
    "    ) AS readable_time\n",
    "FROM flight_schedule\n",
    "\"\"\"\n",
    "\n",
    "cursor.execute(query)\n",
    "\n",
    "# In kết quả\n",
    "print(f\"{'ID':<5} {'Code':<6} {'Formatted Time'}\")\n",
    "\n",
    "for row in cursor.fetchall():\n",
    "    print(f\"{row[0]:<5} {row[1]:<6} {row[2]}\")\n"
   ]
  },
  {
   "cell_type": "markdown",
   "metadata": {},
   "source": [
    "#  Câu 4: Viết truy vấn SQL để tìm các ngoại lệ bằng cách sử dụng MAD. Một quy tắc chung là xem xét các giá trị ngoại lệ lớn hơn 1,5 lần so với giá trị MAD, trong đó x là số độ lệch chuẩn mà ta coi là có ý nghĩa."
   ]
  },
  {
   "cell_type": "code",
   "execution_count": 18,
   "metadata": {},
   "outputs": [],
   "source": [
    "import sqlite3\n",
    "import statistics\n",
    "\n",
    "# Kết nối SQLite\n",
    "conn = sqlite3.connect(\":memory:\")\n",
    "cursor = conn.cursor()\n",
    "\n",
    "# Tạo bảng dữ liệu \"sensor_data\"\n",
    "cursor.execute(\"\"\"\n",
    "CREATE TABLE sensor_data (\n",
    "    id INTEGER PRIMARY KEY,\n",
    "    value REAL\n",
    ")\n",
    "\"\"\")\n",
    "\n",
    "# Chèn dữ liệu mẫu\n",
    "data = [\n",
    "    (1, 10.5),\n",
    "    (2, 11.0),\n",
    "    (3, 10.8),\n",
    "    (4, 12.2),\n",
    "    (5, 50.0),  # outlier\n",
    "    (6, 11.3),\n",
    "    (7, 10.7),\n",
    "    (8, 9.8),\n",
    "    (9, 11.1)\n",
    "]\n",
    "cursor.executemany(\"INSERT INTO sensor_data(id, value) VALUES (?, ?)\", data)\n",
    "conn.commit()\n"
   ]
  },
  {
   "cell_type": "code",
   "execution_count": 20,
   "metadata": {},
   "outputs": [
    {
     "name": "stdout",
     "output_type": "stream",
     "text": [
      "Giá trị ngoại lệ (outliers):\n",
      "ID    Value     \n",
      "1     10.50     \n",
      "4     12.20     \n",
      "5     50.00     \n",
      "8     9.80      \n"
     ]
    }
   ],
   "source": [
    "# Lấy toàn bộ dữ liệu value để tính MAD trong Python\n",
    "cursor.execute(\"SELECT value FROM sensor_data\")\n",
    "values = [row[0] for row in cursor.fetchall()]\n",
    "\n",
    "# Tính median và MAD\n",
    "median_val = statistics.median(values)\n",
    "mad = statistics.median([abs(x - median_val) for x in values])\n",
    "\n",
    "# Định nghĩa ngưỡng ngoại lệ (giá trị lệch quá 1.5 lần MAD)\n",
    "threshold = 1.5 * mad\n",
    "\n",
    "# Truy vấn các giá trị ngoại lệ\n",
    "query = f\"\"\"\n",
    "SELECT id, value\n",
    "FROM sensor_data\n",
    "WHERE ABS(value - {median_val}) > {threshold}\n",
    "\"\"\"\n",
    "\n",
    "cursor.execute(query)\n",
    "\n",
    "# In kết quả\n",
    "print(\"Giá trị ngoại lệ (outliers):\")\n",
    "print(f\"{'ID':<5} {'Value':<10}\")\n",
    "for row in cursor.fetchall():\n",
    "    print(f\"{row[0]:<5} {row[1]:<10.2f}\")\n"
   ]
  },
  {
   "cell_type": "markdown",
   "metadata": {},
   "source": [
    "# Câu 5: Hãy xác định liệu hai người trong bảng Patient(last_name, weight, height) có phải là một người hay không bằng cách sử dụng khoảng cách kết hợp Boolean trên “last_name” và “weight”"
   ]
  },
  {
   "cell_type": "code",
   "execution_count": 21,
   "metadata": {},
   "outputs": [
    {
     "name": "stdout",
     "output_type": "stream",
     "text": [
      "  last_name  weight  height    classification\n",
      "0    Nguyen    65.0   170.0             Người\n",
      "1        Le     0.0   180.0  Không phải người\n",
      "2    Truong   999.0   160.0  Không phải người\n",
      "3      null    70.0   175.0             Người\n"
     ]
    }
   ],
   "source": [
    "# Tạo bảng Patient\n",
    "cursor.execute(\"\"\"\n",
    "CREATE TABLE Patient (\n",
    "    last_name TEXT,\n",
    "    weight REAL,\n",
    "    height REAL\n",
    ")\n",
    "\"\"\")\n",
    "# Thêm một vài dòng ví dụ\n",
    "patients = [\n",
    "    (\"Nguyen\", 65, 170),\n",
    "    (\"Le\", 0, 180),          # nghi ngờ không phải người\n",
    "    (\"Truong\", 999, 160),    # nghi ngờ không phải người\n",
    "    (\"null\", 70, 175)\n",
    "]\n",
    "cursor.executemany(\"INSERT INTO Patient VALUES (?, ?, ?)\", patients)\n",
    "\n",
    "# Truy vấn: Nếu last_name IS NULL hoặc weight = 0 hoặc quá cao => nghi ngờ không phải người\n",
    "df_pat = pd.read_sql_query(\"\"\"\n",
    "SELECT *,\n",
    "       CASE \n",
    "         WHEN last_name IS NULL OR weight <= 0 OR weight > 300 \n",
    "         THEN 'Không phải người'\n",
    "         ELSE 'Người'\n",
    "       END AS classification\n",
    "FROM Patient\n",
    "\"\"\", conn)\n",
    "\n",
    "print(df_pat)\n"
   ]
  }
 ],
 "metadata": {
  "kernelspec": {
   "display_name": "Python 3",
   "language": "python",
   "name": "python3"
  },
  "language_info": {
   "codemirror_mode": {
    "name": "ipython",
    "version": 3
   },
   "file_extension": ".py",
   "mimetype": "text/x-python",
   "name": "python",
   "nbconvert_exporter": "python",
   "pygments_lexer": "ipython3",
   "version": "3.11.9"
  }
 },
 "nbformat": 4,
 "nbformat_minor": 2
}
