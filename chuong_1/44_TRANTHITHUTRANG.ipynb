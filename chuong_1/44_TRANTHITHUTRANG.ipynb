{
 "cells": [
  {
   "cell_type": "code",
   "execution_count": 1,
   "metadata": {},
   "outputs": [
    {
     "name": "stdout",
     "output_type": "stream",
     "text": [
      "Bảng 'Nhanvien' đã được tạo thành công!\n"
     ]
    }
   ],
   "source": [
    "import sqlite3\n",
    "\n",
    "# Kết nối database\n",
    "conn = sqlite3.connect(\"database.db\")\n",
    "cursor = conn.cursor()\n",
    "\n",
    "# Tạo bảng NhanVien nếu chưa tồn tại\n",
    "cursor.execute(\"\"\"\n",
    "    CREATE TABLE IF NOT EXISTS Nhanvien (\n",
    "        MaNV INTEGER PRIMARY KEY,\n",
    "        HoTen TEXT NOT NULL,\n",
    "        Tuoi INTEGER,\n",
    "        PhongBan TEXT\n",
    "    )\n",
    "\"\"\")\n",
    "\n",
    "# Lưu thay đổi\n",
    "conn.commit()\n",
    "print(\"Bảng 'Nhanvien' đã được tạo thành công!\")\n",
    "# Chèn dữ liệu vào bảng Nhanvien\n",
    "NhanVien = [\n",
    "    (1, \"Nguyen Van A\", 30, \"Ke toan\"),\n",
    "    (2, \"Tran Thi B\", 25, \"Nhan Su\"),\n",
    "    (3, \"La Van C\", 25, \"Lap trinh vien\"),\n",
    "    (4, \"Pham Thi D\", 35, \"Marketing\"),\n",
    "    (5, \"Vu Van E\", 26, \"IT\"),\n",
    "    (6, \"Nguyen Thi F\", 29, \"Marketing\"),\n",
    "    (7, \"Le Thi G\", 27, \"Nhan Su\"),\n",
    "    (8, \"Hoang Van H\", 35, \"Ke Toan\"),\n",
    "    (9, \"Pham Van I\", 33, \"Marketing\"),\n",
    "    (10, \"Tran Van J\", 24, \"IT\"),\n",
    "    (11, \"Dang Thi K\", 31, \"Nhan Su\"),\n",
    "    (12, \"Nguyen Van L\", 28, \"Ke toan\"),\n",
    "    (13, \"Tran Thi M\", 26, \"Marketing\"),\n",
    "    (14, \"Pham Van N\", 30, \"Nhan Su\"),\n",
    "    (15, \"Hoang Thi O\", 27, \"IT\")\n",
    "]\n",
    "\n",
    "# Thêm dữ liệu vào bảng, bỏ qua nếu trùng khóa chính\n",
    "cursor.executemany(\"INSERT OR IGNORE INTO Nhanvien (MaNV, HoTen, Tuoi, PhongBan) VALUES (?, ?, ?, ?)\", NhanVien)\n",
    "\n",
    "# Lưu thay đổi\n",
    "conn.commit()\n",
    "\n",
    "\n"
   ]
  },
  {
   "cell_type": "code",
   "execution_count": 2,
   "metadata": {},
   "outputs": [
    {
     "name": "stdout",
     "output_type": "stream",
     "text": [
      "Danh sách nhân viên:\n",
      "(1, 'Nguyen Van A', 30, 'Ke toan')\n",
      "(2, 'Tran Thi B', 25, 'Nhan Su')\n",
      "(3, 'La Van C', 25, 'Lap trinh vien')\n",
      "(4, 'Pham Thi D', 35, 'Marketing')\n",
      "(5, 'Vu Van E', 26, 'IT')\n",
      "(6, 'Nguyen Thi F', 29, 'Marketing')\n",
      "(7, 'Le Thi G', 27, 'Nhan Su')\n",
      "(8, 'Hoang Van H', 35, 'Ke Toan')\n",
      "(9, 'Pham Van I', 33, 'Marketing')\n",
      "(10, 'Tran Van J', 24, 'IT')\n",
      "(11, 'Dang Thi K', 31, 'Nhan Su')\n",
      "(12, 'Nguyen Van L', 28, 'Ke toan')\n",
      "(13, 'Tran Thi M', 26, 'Marketing')\n",
      "(14, 'Pham Van N', 30, 'Nhan Su')\n",
      "(15, 'Hoang Thi O', 27, 'IT')\n"
     ]
    }
   ],
   "source": [
    "# Truy vấn tất cả nhân viên\n",
    "cursor.execute(\"SELECT * FROM Nhanvien\")\n",
    "rows = cursor.fetchall()\n",
    "\n",
    "# In kết quả\n",
    "print(\"Danh sách nhân viên:\")\n",
    "for row in rows:\n",
    "    print(row)\n",
    "\n",
    "# Đóng kết nối\n",
    "conn.close()"
   ]
  },
  {
   "cell_type": "markdown",
   "metadata": {},
   "source": [
    "Danh sách nhân viên có tên chứa từ \"Nguyễn\""
   ]
  },
  {
   "cell_type": "code",
   "execution_count": 3,
   "metadata": {},
   "outputs": [
    {
     "ename": "OperationalError",
     "evalue": "no such table: NhanVien",
     "output_type": "error",
     "traceback": [
      "\u001b[1;31m---------------------------------------------------------------------------\u001b[0m",
      "\u001b[1;31mOperationalError\u001b[0m                          Traceback (most recent call last)",
      "Cell \u001b[1;32mIn[3], line 5\u001b[0m\n\u001b[0;32m      2\u001b[0m cursor \u001b[38;5;241m=\u001b[39m conn\u001b[38;5;241m.\u001b[39mcursor()\n\u001b[0;32m      4\u001b[0m \u001b[38;5;66;03m# Truy vấn danh sách nhân viên có tên chứa từ \"Nguyễn\"\u001b[39;00m\n\u001b[1;32m----> 5\u001b[0m \u001b[43mcursor\u001b[49m\u001b[38;5;241;43m.\u001b[39;49m\u001b[43mexecute\u001b[49m\u001b[43m(\u001b[49m\u001b[38;5;124;43m\"\u001b[39;49m\u001b[38;5;124;43mSELECT HoTen FROM NhanVien WHERE HoTen LIKE \u001b[39;49m\u001b[38;5;124;43m'\u001b[39;49m\u001b[38;5;124;43m%\u001b[39;49m\u001b[38;5;124;43mNguyen\u001b[39;49m\u001b[38;5;124;43m%\u001b[39;49m\u001b[38;5;124;43m'\u001b[39;49m\u001b[38;5;124;43m\"\u001b[39;49m\u001b[43m)\u001b[49m\n\u001b[0;32m      7\u001b[0m \u001b[38;5;66;03m# Lấy và in kết quả\u001b[39;00m\n\u001b[0;32m      8\u001b[0m result \u001b[38;5;241m=\u001b[39m cursor\u001b[38;5;241m.\u001b[39mfetchall()\n",
      "\u001b[1;31mOperationalError\u001b[0m: no such table: NhanVien"
     ]
    }
   ],
   "source": [
    "conn = sqlite3.connect('company.db')\n",
    "cursor = conn.cursor()\n",
    "\n",
    "# Truy vấn danh sách nhân viên có tên chứa từ \"Nguyễn\"\n",
    "cursor.execute(\"SELECT HoTen FROM NhanVien WHERE HoTen LIKE '%Nguyen%'\")\n",
    "\n",
    "# Lấy và in kết quả\n",
    "result = cursor.fetchall()\n",
    "for row in result:\n",
    "    print(row[0])\n",
    "\n",
    "# Đóng kết nối\n",
    "conn.close()"
   ]
  },
  {
   "cell_type": "markdown",
   "metadata": {},
   "source": [
    " 4. Truy vấn HoTen và Tuoi của các nhân viên trong phòng IT"
   ]
  },
  {
   "cell_type": "code",
   "execution_count": 27,
   "metadata": {},
   "outputs": [
    {
     "name": "stdout",
     "output_type": "stream",
     "text": [
      "Vu Van E 26\n",
      "Tran Van J 24\n",
      "Hoang Thi O 27\n"
     ]
    }
   ],
   "source": [
    "# Kết nối lại đến cơ sở dữ liệu\n",
    "conn = sqlite3.connect('database.db')\n",
    "cursor = conn.cursor()\n",
    "\n",
    "# Truy vấn họ tên và tuổi của các nhân viên trong phòng IT\n",
    "cursor.execute(\"SELECT HoTen, Tuoi FROM NhanVien WHERE PhongBan = 'IT'\")\n",
    "\n",
    "# Lấy và in kết quả\n",
    "result = cursor.fetchall()\n",
    "for row in result:\n",
    "    print(row[0],row[1])\n",
    "\n",
    "# Đóng kết nối\n",
    "conn.close()\n"
   ]
  },
  {
   "cell_type": "markdown",
   "metadata": {},
   "source": [
    " 5. Tìm nhân viên có độ tuổi lớn hơn 25."
   ]
  },
  {
   "cell_type": "code",
   "execution_count": 28,
   "metadata": {},
   "outputs": [
    {
     "name": "stdout",
     "output_type": "stream",
     "text": [
      "Nguyen Van A 30\n",
      "Pham Thi D 35\n",
      "Vu Van E 26\n",
      "Nguyen Thi F 29\n",
      "Le Thi G 27\n",
      "Hoang Van H 35\n",
      "Pham Van I 33\n",
      "Dang Thi K 31\n",
      "Nguyen Van L 28\n",
      "Tran Thi M 26\n",
      "Pham Van N 30\n",
      "Hoang Thi O 27\n"
     ]
    }
   ],
   "source": [
    "# Kết nối lại đến cơ sở dữ liệu\n",
    "conn = sqlite3.connect('database.db')\n",
    "cursor = conn.cursor()\n",
    "\n",
    "# Truy vấn những nhân viên có độ tuổi lớn hơn 25\n",
    "cursor.execute(\"SELECT HoTen, Tuoi FROM NhanVien WHERE Tuoi > 25\")\n",
    "\n",
    "# Lấy và in kết quả\n",
    "result = cursor.fetchall()\n",
    "for row in result:\n",
    "    print(row[0],row[1])\n",
    "\n",
    "# Đóng kết nối\n",
    "conn.close()"
   ]
  },
  {
   "cell_type": "markdown",
   "metadata": {},
   "source": [
    " 6. Cho biết nhân viên lớn tuổi nhất của các PhongBan"
   ]
  },
  {
   "cell_type": "code",
   "execution_count": null,
   "metadata": {},
   "outputs": [
    {
     "name": "stdout",
     "output_type": "stream",
     "text": [
      "Nhân viên lớn tuổi nhất của từng phòng ban:\n",
      "Phòng: Ke toan, Nhân viên: Nguyen Van A, Tuổi: 30\n",
      "Phòng: Nhan Su, Nhân viên: Tran Thi B, Tuổi: 25\n",
      "Phòng: Lap trinh vien, Nhân viên: La Van C, Tuổi: 25\n",
      "Phòng: Marketing, Nhân viên: Pham Thi D, Tuổi: 35\n",
      "Phòng: Nhan Su, Nhân viên: Le Thi G, Tuổi: 27\n",
      "Phòng: Ke Toan, Nhân viên: Hoang Van H, Tuổi: 35\n",
      "Phòng: Nhan Su, Nhân viên: Dang Thi K, Tuổi: 31\n",
      "Phòng: Nhan Su, Nhân viên: Pham Van N, Tuổi: 30\n",
      "Phòng: IT, Nhân viên: Hoang Thi O, Tuổi: 27\n"
     ]
    }
   ],
   "source": [
    "\n",
    "\n",
    "\n",
    "conn = sqlite3.connect('database.db')\n",
    "cursor = conn.cursor()\n",
    "\n",
    "# Truy vấn nhân viên lớn tuổi nhất trong mỗi phòng ban\n",
    "cursor.execute('''\n",
    "    SELECT PhongBan, HoTen, MAX(Tuoi)\n",
    "    FROM NhanVien\n",
    "    GROUP BY PhongBan\n",
    "''')\n",
    "\n",
    "rows = cursor.fetchall()\n",
    "\n",
    "# In kết quả\n",
    "print(\"Nhân viên lớn tuổi nhất trong mỗi phòng ban:\")\n",
    "for row in rows:\n",
    "    print(f\"Phòng ban: {row[0]}, Nhân viên: {row[1]}, Tuổi: {row[2]}\")\n",
    "\n",
    "conn.close()  # Đóng kết nối\n"
   ]
  },
  {
   "cell_type": "markdown",
   "metadata": {},
   "source": [
    "7. Chuyển đổi thông tin PhongBan của nhân viên “Le Van C” sang “Marketing”"
   ]
  },
  {
   "cell_type": "code",
   "execution_count": 31,
   "metadata": {},
   "outputs": [
    {
     "name": "stdout",
     "output_type": "stream",
     "text": [
      "[(3, 'La Van C', 25, 'Marketing')]\n"
     ]
    }
   ],
   "source": [
    "\n",
    "# Kết nối đến database\n",
    "conn = sqlite3.connect(\"database.db\")\n",
    "cursor = conn.cursor()\n",
    "\n",
    "# Cập nhật phòng ban của nhân viên \"Le Van C\" thành \"Marketing\"\n",
    "cursor.execute(\"\"\"\n",
    "    UPDATE Nhanvien\n",
    "    SET PhongBan = 'Marketing'\n",
    "    WHERE HoTen = 'La Van C'\n",
    "\"\"\")\n",
    "\n",
    "# Lưu thay đổi\n",
    "conn.commit()\n",
    "\n",
    "# Kiểm tra kết quả\n",
    "cursor.execute(\"SELECT * FROM Nhanvien WHERE HoTen = 'La Van C'\")\n",
    "print(cursor.fetchall())\n",
    "\n",
    "# Đóng kết nối\n",
    "conn.close()\n"
   ]
  },
  {
   "cell_type": "markdown",
   "metadata": {},
   "source": [
    "Nếu có vấn đề xảy ra khi chuyển đổi thông tin cần: 1.Cần kiểm tra tính duy nhất của dữ liệu sử dụng MaNV thay vì dùng HoTen 2.kiểm tra dữ liệu trước khi cập nhật"
   ]
  },
  {
   "cell_type": "markdown",
   "metadata": {},
   "source": [
    "8. Xóa nhân viên có “MaSV = 2” rồi cho biết mỗi phòng ban có bao nhiêu người"
   ]
  },
  {
   "cell_type": "code",
   "execution_count": 32,
   "metadata": {},
   "outputs": [
    {
     "name": "stdout",
     "output_type": "stream",
     "text": [
      "Số nhân viên trong từng phòng ban sau khi xóa:\n",
      "Phòng: IT, Số lượng: 3\n",
      "Phòng: Ke Toan, Số lượng: 1\n",
      "Phòng: Ke toan, Số lượng: 2\n",
      "Phòng: Marketing, Số lượng: 5\n",
      "Phòng: Nhan Su, Số lượng: 3\n"
     ]
    }
   ],
   "source": [
    "\n",
    "# Kết nối đến database\n",
    "conn = sqlite3.connect(\"database.db\")\n",
    "cursor = conn.cursor()\n",
    "\n",
    "# Xóa nhân viên có MaNV = 2\n",
    "cursor.execute(\"DELETE FROM Nhanvien WHERE MaNV = 2\")\n",
    "\n",
    "# Lưu thay đổi\n",
    "conn.commit()\n",
    "\n",
    "# Đếm số nhân viên trong mỗi phòng ban\n",
    "cursor.execute(\"\"\"\n",
    "    SELECT PhongBan, COUNT(*) as SoLuong\n",
    "    FROM Nhanvien\n",
    "    GROUP BY PhongBan\n",
    "\"\"\")\n",
    "\n",
    "# Lấy kết quả\n",
    "result = cursor.fetchall()\n",
    "\n",
    "# In kết quả\n",
    "print(\"Số nhân viên trong từng phòng ban sau khi xóa:\")\n",
    "for row in result:\n",
    "    print(f\"Phòng: {row[0]}, Số lượng: {row[1]}\")\n",
    "\n",
    "# Đóng kết nối\n",
    "conn.close()\n"
   ]
  }
 ],
 "metadata": {
  "kernelspec": {
   "display_name": "Python 3",
   "language": "python",
   "name": "python3"
  },
  "language_info": {
   "codemirror_mode": {
    "name": "ipython",
    "version": 3
   },
   "file_extension": ".py",
   "mimetype": "text/x-python",
   "name": "python",
   "nbconvert_exporter": "python",
   "pygments_lexer": "ipython3",
   "version": "3.11.9"
  }
 },
 "nbformat": 4,
 "nbformat_minor": 2
}
